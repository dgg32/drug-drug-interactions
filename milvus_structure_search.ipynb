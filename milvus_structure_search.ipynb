{
 "cells": [
  {
   "cell_type": "code",
   "execution_count": 11,
   "metadata": {},
   "outputs": [],
   "source": [
    "!pip install -q towhee towhee.models rdkit-pypi gradio"
   ]
  },
  {
   "cell_type": "code",
   "execution_count": 12,
   "metadata": {},
   "outputs": [],
   "source": [
    "!pip install -q pymilvus==2.2.11 neo4j"
   ]
  },
  {
   "cell_type": "code",
   "execution_count": 13,
   "metadata": {},
   "outputs": [
    {
     "name": "stdout",
     "output_type": "stream",
     "text": [
      "Requirement already satisfied: neo4j in /home/dgg32/anaconda3/lib/python3.11/site-packages (5.18.0)\n",
      "Requirement already satisfied: pytz in /home/dgg32/anaconda3/lib/python3.11/site-packages (from neo4j) (2023.3.post1)\n"
     ]
    }
   ],
   "source": [
    "!python -m pip install neo4j"
   ]
  },
  {
   "cell_type": "code",
   "execution_count": 5,
   "metadata": {},
   "outputs": [
    {
     "name": "stdout",
     "output_type": "stream",
     "text": [
      "Requirement already satisfied: PyYAML in /home/dgg32/anaconda3/lib/python3.11/site-packages (6.0)\n"
     ]
    }
   ],
   "source": [
    "!python -m pip install PyYAML"
   ]
  },
  {
   "cell_type": "code",
   "execution_count": 1,
   "metadata": {},
   "outputs": [],
   "source": [
    "\n",
    "import json\n",
    "import os\n",
    "from pathlib import Path\n",
    "from neo4j import GraphDatabase\n",
    "import yaml"
   ]
  },
  {
   "cell_type": "code",
   "execution_count": 2,
   "metadata": {},
   "outputs": [],
   "source": [
    "with open(\"config.yaml\", \"r\") as stream:\n",
    "    try:\n",
    "        PARAM = yaml.safe_load(stream)\n",
    "    except yaml.YAMLError as exc:\n",
    "        print(exc)"
   ]
  },
  {
   "cell_type": "code",
   "execution_count": 11,
   "metadata": {},
   "outputs": [],
   "source": [
    "driver = GraphDatabase.driver(PARAM[\"neo4j_url\"], auth=(PARAM[\"neo4j_username\"], PARAM[\"neo4j_password\"]))\n",
    "\n",
    "content = \"smiles,id\\n\"\n",
    "\n",
    "with driver.session() as session:\n",
    "    result = session.run('MATCH (m:Medicine) RETURN m.name, m.SMILES')\n",
    "    for r in result:\n",
    "        #print (r)\n",
    "        if r[\"m.SMILES\"] != \"\":\n",
    "            content += r[\"m.SMILES\"] + \",\" + r[\"m.name\"] + \"\\n\"\n"
   ]
  },
  {
   "cell_type": "code",
   "execution_count": 12,
   "metadata": {},
   "outputs": [],
   "source": [
    "with open(\"SMILES_structures.csv\", \"w\") as file:\n",
    "    file.write(content)"
   ]
  },
  {
   "cell_type": "code",
   "execution_count": null,
   "metadata": {},
   "outputs": [],
   "source": []
  }
 ],
 "metadata": {
  "kernelspec": {
   "display_name": "bigquery_pricing",
   "language": "python",
   "name": "python3"
  },
  "language_info": {
   "codemirror_mode": {
    "name": "ipython",
    "version": 3
   },
   "file_extension": ".py",
   "mimetype": "text/x-python",
   "name": "python",
   "nbconvert_exporter": "python",
   "pygments_lexer": "ipython3",
   "version": "3.11.8"
  }
 },
 "nbformat": 4,
 "nbformat_minor": 2
}
