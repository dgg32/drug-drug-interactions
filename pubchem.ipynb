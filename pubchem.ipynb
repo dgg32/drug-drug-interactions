{
 "cells": [
  {
   "cell_type": "code",
   "execution_count": 50,
   "metadata": {},
   "outputs": [],
   "source": [
    "import requests\n",
    "import json\n",
    "from tqdm import tqdm"
   ]
  },
  {
   "cell_type": "code",
   "execution_count": 51,
   "metadata": {},
   "outputs": [],
   "source": [
    "def get_cid(name: str) -> str:\n",
    "    url = f\"https://pubchem.ncbi.nlm.nih.gov/rest/pug/compound/name/{name}/cids/json\"\n",
    "    response = requests.get(url)\n",
    "    data = response.json()\n",
    "    if \"IdentifierList\" in data and \"CID\" in data[\"IdentifierList\"] and len(data[\"IdentifierList\"][\"CID\"]) > 0:\n",
    "        return data[\"IdentifierList\"][\"CID\"][0]\n",
    "    else:\n",
    "        return \"\"\n",
    "\n",
    "def get_smiles(cid: str) -> str:\n",
    "    url = f\"https://pubchem.ncbi.nlm.nih.gov/rest/pug/compound/cid/{cid}/property/CanonicalSMILES/json\"\n",
    "    response = requests.get(url)\n",
    "    data = response.json()\n",
    "    if \"PropertyTable\" in data and \"Properties\" in data[\"PropertyTable\"] and len(data[\"PropertyTable\"][\"Properties\"]) > 0:\n",
    "        return data[\"PropertyTable\"][\"Properties\"][0][\"CanonicalSMILES\"]\n",
    "    else:\n",
    "        return \"\"\n",
    "    \n",
    "def search_similar(smiles: str, threshold: float = 90) -> list:\n",
    "    url = f\"https://pubchem.ncbi.nlm.nih.gov/rest/pug/compound/fastsimilarity_2d/smiles/{smiles}/cids/JSON?Threshold={threshold}&MaxRecords=100\"\n",
    "    print (url)\n",
    "    response = requests.get(url)\n",
    "    data = response.json()\n",
    "    if \"IdentifierList\" in data and \"CID\" in data[\"IdentifierList\"]:\n",
    "        return data[\"IdentifierList\"][\"CID\"]\n",
    "    else:\n",
    "        return []\n",
    "    \n",
    "def get_kegg_id(name: str) -> str:\n",
    "    url = f\"https://rest.kegg.jp/find/compound/{name}\"\n",
    "    response = requests.get(url)\n",
    "    return response.text.split(\"\\t\")[0].strip()\n"
   ]
  },
  {
   "cell_type": "code",
   "execution_count": 52,
   "metadata": {},
   "outputs": [
    {
     "name": "stdout",
     "output_type": "stream",
     "text": [
      "https://pubchem.ncbi.nlm.nih.gov/rest/pug/compound/fastsimilarity_2d/smiles/CCC1=C(CN(C1=O)C(=O)NCCC2=CC=C(C=C2)S(=O)(=O)NC(=O)NC3CCC(CC3)C)C/cids/JSON?Threshold=98&MaxRecords=100\n",
      "[3476, 25235580, 144291124, 142933950, 138524604, 124198231, 118689036, 70809341, 68091311, 68091306, 60040047, 56633356, 56620977, 56618785, 56614415, 25207715, 24744542, 25235584, 25235629, 25235716, 25235759, 25235762, 25235895, 25241307, 117588234]\n"
     ]
    }
   ],
   "source": [
    "cid = get_cid(\"Glimepiride\")\n",
    "\n",
    "smiles = get_smiles(cid)\n",
    "\n",
    "similar_structures = search_similar(smiles, 98)\n",
    "\n",
    "print (similar_structures)\n",
    "\n"
   ]
  },
  {
   "cell_type": "code",
   "execution_count": 53,
   "metadata": {},
   "outputs": [
    {
     "data": {
      "text/plain": [
       "'cpd:C07669'"
      ]
     },
     "execution_count": 53,
     "metadata": {},
     "output_type": "execute_result"
    }
   ],
   "source": [
    "get_kegg_id(\"Glimepiride\")"
   ]
  },
  {
   "cell_type": "code",
   "execution_count": 54,
   "metadata": {},
   "outputs": [],
   "source": [
    "output_folder = \"neo4j\""
   ]
  },
  {
   "cell_type": "code",
   "execution_count": 55,
   "metadata": {},
   "outputs": [
    {
     "name": "stderr",
     "output_type": "stream",
     "text": [
      "  0%|          | 0/499 [00:00<?, ?it/s]"
     ]
    },
    {
     "name": "stderr",
     "output_type": "stream",
     "text": [
      "100%|██████████| 499/499 [23:36<00:00,  2.84s/it]\n"
     ]
    }
   ],
   "source": [
    "content = \"\"\n",
    "\n",
    "with open('drug_details_4.jsonl', 'r') as f:\n",
    "    for line in tqdm(f.readlines()):\n",
    "        drug = json.loads(line)\n",
    "        name = drug[\"name\"]\n",
    "\n",
    "        drug[\"cid\"] = get_cid(name)\n",
    "        drug[\"SMILES\"] =  get_smiles(cid)\n",
    "\n",
    "        drug[\"kegg_id\"] = get_kegg_id(name)\n",
    "\n",
    "        content += json.dumps(drug) + \"\\n\"\n",
    "\n",
    "with open('neo4j/drug_details_5.jsonl', 'w') as f:\n",
    "    f.write(content)\n",
    "       "
   ]
  },
  {
   "cell_type": "code",
   "execution_count": null,
   "metadata": {},
   "outputs": [],
   "source": []
  }
 ],
 "metadata": {
  "kernelspec": {
   "display_name": "Python 3",
   "language": "python",
   "name": "python3"
  },
  "language_info": {
   "codemirror_mode": {
    "name": "ipython",
    "version": 3
   },
   "file_extension": ".py",
   "mimetype": "text/x-python",
   "name": "python",
   "nbconvert_exporter": "python",
   "pygments_lexer": "ipython3",
   "version": "3.11.5"
  }
 },
 "nbformat": 4,
 "nbformat_minor": 2
}
